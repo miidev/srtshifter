{
 "cells": [
  {
   "cell_type": "code",
   "execution_count": 45,
   "metadata": {},
   "outputs": [],
   "source": [
    "import re\n",
    "import sys, getopt"
   ]
  },
  {
   "cell_type": "code",
   "execution_count": 46,
   "metadata": {},
   "outputs": [],
   "source": [
    "def longtfm2sec(timestr):\n",
    "    t = timestr.split(\":\")\n",
    "    sec = int(t[0])*3600 + int(t[1])*60 + float(t[2].replace(',','.'))\n",
    "    return (sec)\n",
    "\n",
    "def sec2longtfm(sec):\n",
    "    dm = divmod(sec,3600) \n",
    "    jam = str(round(dm[0])).zfill(2)\n",
    "    dm = divmod(dm[1],60) \n",
    "    mnt = str(round(dm[0])).zfill(2)\n",
    "    dtk = str('%.3f' % dm[1]).zfill(6).replace('.',',')\n",
    "    return (\"%s:%s:%s\" % (jam, mnt, dtk))"
   ]
  },
  {
   "cell_type": "code",
   "execution_count": 47,
   "metadata": {},
   "outputs": [
    {
     "data": {
      "text/plain": [
       "'00:02:55,820 --> 00:02:56,952'"
      ]
     },
     "execution_count": 47,
     "metadata": {},
     "output_type": "execute_result"
    }
   ],
   "source": [
    "a = parsing2sec(\"00:02:54,820 --> 00:02:55,952\", 1)\n",
    "a"
   ]
  },
  {
   "cell_type": "code",
   "execution_count": 50,
   "metadata": {},
   "outputs": [],
   "source": [
    "def main(srtfile, shift):\n",
    "      \n",
    "    # namafile = 'Outlander S01E09.srt'\n",
    "    try:\n",
    "        f= open(srtfile,\"r\")\n",
    "        if f.mode == \"r\":\n",
    "            fout= open(srtfile.replace('.srt','_new.srt'), \"w\")\n",
    "            f1 = f.readlines()\n",
    "            reg = re.compile('\\d\\d\\:\\d\\d:\\d\\d\\,\\d\\d\\d --> \\d\\d:\\d\\d:\\d\\d,\\d\\d\\d')\n",
    "            for i in f1:\n",
    "                m = reg.match(i)\n",
    "                if m:\n",
    "                    t = i.split(\" --> \")\n",
    "                    t1 = longtfm2sec(t[0]) + shift\n",
    "                    t2 = longtfm2sec(t[1]) + shift\n",
    "                    fout.write(sec2longtfm(t1) + ' --> ' + sec2longtfm(t2) + '\\n')\n",
    "                else:\n",
    "                    fout.write(i)\n",
    "            fout.close()\n",
    "        f.close()\n",
    "        print ('Output file: ' + srtfile.replace('.srt','_new.srt'))\n",
    "    except FileNotFoundError:\n",
    "        print('Error read file',srtfile)"
   ]
  },
  {
   "cell_type": "code",
   "execution_count": 51,
   "metadata": {},
   "outputs": [
    {
     "name": "stdout",
     "output_type": "stream",
     "text": [
      "Output file: Outlander S02E07 Faith_new.srt\n"
     ]
    }
   ],
   "source": [
    "main(\"Outlander S02E07 Faith.srt\", 10)"
   ]
  }
 ],
 "metadata": {
  "kernelspec": {
   "display_name": "Python 3",
   "language": "python",
   "name": "python3"
  },
  "language_info": {
   "codemirror_mode": {
    "name": "ipython",
    "version": 3
   },
   "file_extension": ".py",
   "mimetype": "text/x-python",
   "name": "python",
   "nbconvert_exporter": "python",
   "pygments_lexer": "ipython3",
   "version": "3.7.0"
  }
 },
 "nbformat": 4,
 "nbformat_minor": 2
}
