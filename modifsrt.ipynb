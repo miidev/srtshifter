{
 "cells": [
  {
   "cell_type": "code",
   "execution_count": 1,
   "metadata": {},
   "outputs": [],
   "source": [
    "import re\n",
    "import sys, getopt\n",
    "\n",
    "def longtfm2sec(timestr):\n",
    "    t = timestr.split(\":\")\n",
    "    sec = int(t[0])*3600 + int(t[1])*60 + float(t[2].replace(',','.'))\n",
    "    return (sec)\n",
    "\n",
    "def sec2longtfm(sec):\n",
    "    dm = divmod(sec,3600) \n",
    "    jam = str(round(dm[0])).zfill(2)\n",
    "    dm = divmod(dm[1],60) \n",
    "    mnt = str(round(dm[0])).zfill(2)\n",
    "    dtk = str('%.3f' % dm[1]).zfill(6).replace('.',',')\n",
    "    return (\"%s:%s:%s\" % (jam, mnt, dtk))"
   ]
  },
  {
   "cell_type": "code",
   "execution_count": 2,
   "metadata": {},
   "outputs": [],
   "source": [
    "def main(srtfile, shift, starton=\"00:00:00,000\", endon=\"99:99:99,999\"):\n",
    "      \n",
    "    starttime = longtfm2sec(starton)\n",
    "    endon = longtfm2sec(endon)\n",
    "    # namafile = 'Outlander S01E09.srt'\n",
    "    try:\n",
    "        f= open(srtfile,\"r\")\n",
    "        if f.mode == \"r\":\n",
    "            fout= open(srtfile.replace('.srt','_new.srt'), \"w\")\n",
    "            f1 = f.readlines()\n",
    "            reg = re.compile('\\d\\d\\:\\d\\d:\\d\\d\\,\\d\\d\\d --> \\d\\d:\\d\\d:\\d\\d,\\d\\d\\d')\n",
    "            for i in f1:\n",
    "                m = reg.match(i)\n",
    "                if m:\n",
    "                    t = i.split(\" --> \")\n",
    "                    if longtfm2sec(t[0])>=starttime and longtfm2sec(t[1])<=endon:\n",
    "                        t1 = longtfm2sec(t[0]) + shift\n",
    "                        t2 = longtfm2sec(t[1]) + shift\n",
    "                        fout.write(sec2longtfm(t1) + ' --> ' + sec2longtfm(t2) + '\\n')\n",
    "                    else:\n",
    "                        fout.write(i)\n",
    "                else:\n",
    "                    fout.write(i)\n",
    "            fout.close()\n",
    "        f.close()\n",
    "        print ('Output file: ' + srtfile.replace('.srt','_new.srt'))\n",
    "    except FileNotFoundError:\n",
    "        print('Error read file',srtfile)"
   ]
  },
  {
   "cell_type": "raw",
   "metadata": {},
   "source": [
    "if __name__== \"__main__\":\n",
    "    if len(sys.argv) == 1:\n",
    "        print ('Command syntax:')\n",
    "        print ('run.py -h -i <inputfile> -s <sec shifted>' )\n",
    "        sys.exit(2)\n",
    "    try:\n",
    "        opts, args = getopt.getopt(sys.argv[1:],\"hi:s:\")\n",
    "    except getopt.GetoptError:\n",
    "        print ('run.py -i <inputfile> -s <sec shifted>')\n",
    "        sys.exit(2)\n",
    "    for opt, arg in opts:\n",
    "        if opt == '-h':\n",
    "            print ('run.py -i <inputfile> -s <sec shifted>')\n",
    "            sys.exit()\n",
    "        if opt == '-i':\n",
    "            ifile = (arg)\n",
    "        if opt == '-s':\n",
    "            shift = int(arg)\n",
    " \n",
    "    main(ifile, shift)"
   ]
  },
  {
   "cell_type": "raw",
   "metadata": {},
   "source": [
    "ifile = \"Outlander S02E07 Faith.srt\"\n",
    "main (ifile, 10, \"00:03:00,000\", \"00:04:00,000\")"
   ]
  }
 ],
 "metadata": {
  "kernelspec": {
   "display_name": "Python 3",
   "language": "python",
   "name": "python3"
  },
  "language_info": {
   "codemirror_mode": {
    "name": "ipython",
    "version": 3
   },
   "file_extension": ".py",
   "mimetype": "text/x-python",
   "name": "python",
   "nbconvert_exporter": "python",
   "pygments_lexer": "ipython3",
   "version": "3.7.0"
  }
 },
 "nbformat": 4,
 "nbformat_minor": 2
}
